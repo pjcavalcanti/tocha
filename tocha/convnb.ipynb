{
 "cells": [
  {
   "cell_type": "code",
   "execution_count": 1,
   "metadata": {},
   "outputs": [],
   "source": [
    "import tocha\n",
    "import torchvision.datasets as datasets\n",
    "import tocha.nn as nn\n",
    "import tocha.functional as F\n",
    "import matplotlib.pyplot as plt\n",
    "import numpy as np"
   ]
  },
  {
   "cell_type": "code",
   "execution_count": 2,
   "metadata": {},
   "outputs": [],
   "source": [
    "mnist = datasets.MNIST(root='./data', train=True, download=True, transform=None)"
   ]
  },
  {
   "cell_type": "code",
   "execution_count": 3,
   "metadata": {},
   "outputs": [
    {
     "data": {
      "text/plain": [
       "((60000, 1, 28, 28), (60000,))"
      ]
     },
     "execution_count": 3,
     "metadata": {},
     "output_type": "execute_result"
    }
   ],
   "source": [
    "data = np.expand_dims(mnist.data.numpy(), 1)\n",
    "labels = mnist.targets.numpy()\n",
    "data.shape, labels.shape"
   ]
  },
  {
   "cell_type": "code",
   "execution_count": 4,
   "metadata": {},
   "outputs": [],
   "source": [
    "train_split = int(0.8 * len(data))\n",
    "x_train, y_train = data[:train_split], labels[:train_split]\n",
    "x_test, y_test = data[train_split:], labels[train_split:]"
   ]
  },
  {
   "cell_type": "code",
   "execution_count": 17,
   "metadata": {},
   "outputs": [],
   "source": [
    "# shuffle data\n",
    "idx = np.random.permutation(len(x_train))\n",
    "x_train, y_train = x_train[idx], y_train[idx]\n",
    "idx = np.random.permutation(len(x_test))\n",
    "x_test, y_test = x_test[idx], y_test[idx]\n",
    "\n",
    "x_train, y_train = tocha.tensor(x_train), tocha.tensor(y_train)\n",
    "x_test, y_test = tocha.tensor(x_test), tocha.tensor(y_test)"
   ]
  },
  {
   "cell_type": "code",
   "execution_count": 21,
   "metadata": {},
   "outputs": [
    {
     "data": {
      "text/plain": [
       "((32, 1, 28, 28), (32,), autograd.tensor.Tensor, autograd.tensor.Tensor)"
      ]
     },
     "execution_count": 21,
     "metadata": {},
     "output_type": "execute_result"
    }
   ],
   "source": [
    "def get_batch(batch_size = 32, split = 'train'):\n",
    "    if split == 'train':\n",
    "        x, y = x_train, y_train\n",
    "    else:\n",
    "        x, y = x_test, y_test\n",
    "    idx = np.random.randint(0, len(x), batch_size)\n",
    "    return x[idx], y[idx]\n",
    "xb,yb = get_batch()\n",
    "xb.shape, yb.shape, type(xb), type(yb)"
   ]
  },
  {
   "cell_type": "code",
   "execution_count": 24,
   "metadata": {},
   "outputs": [
    {
     "name": "stdout",
     "output_type": "stream",
     "text": [
      "(32, 6, 24, 24)\n"
     ]
    }
   ],
   "source": [
    "class ConvNet(nn.Module):\n",
    "    def __init__(self):\n",
    "        self.conv1 = nn.Conv2d(1, 3, (3, 3), bias=True)\n",
    "        self.conv2 = nn.Conv2d(3, 6, (3, 3), bias=True)\n",
    "    def forward(self, x):\n",
    "        out = self.conv1(x)\n",
    "        out = self.conv2(out)\n",
    "        return out\n",
    "    \n",
    "model = ConvNet()\n",
    "x, y = get_batch()\n",
    "c = model(x)\n",
    "print(c.shape)"
   ]
  }
 ],
 "metadata": {
  "kernelspec": {
   "display_name": "base",
   "language": "python",
   "name": "python3"
  },
  "language_info": {
   "codemirror_mode": {
    "name": "ipython",
    "version": 3
   },
   "file_extension": ".py",
   "mimetype": "text/x-python",
   "name": "python",
   "nbconvert_exporter": "python",
   "pygments_lexer": "ipython3",
   "version": "3.9.13"
  },
  "orig_nbformat": 4
 },
 "nbformat": 4,
 "nbformat_minor": 2
}
