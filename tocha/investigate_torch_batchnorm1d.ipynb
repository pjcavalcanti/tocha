{
 "cells": [
  {
   "cell_type": "code",
   "execution_count": 1,
   "metadata": {},
   "outputs": [],
   "source": [
    "import torch"
   ]
  },
  {
   "cell_type": "code",
   "execution_count": 101,
   "metadata": {},
   "outputs": [
    {
     "name": "stdout",
     "output_type": "stream",
     "text": [
      "tensor([0., 0., 0.], dtype=torch.float64) tensor([1., 1., 1.], dtype=torch.float64)\n",
      "tensor([-0.0083,  0.0064,  0.0038], dtype=torch.float64) tensor([0.9984, 1.0013, 0.9975], dtype=torch.float64)\n",
      "correct forward: False\n"
     ]
    },
    {
     "ename": "RuntimeError",
     "evalue": "The size of tensor a (3) must match the size of tensor b (10) at non-singleton dimension 1",
     "output_type": "error",
     "traceback": [
      "\u001b[0;31m---------------------------------------------------------------------------\u001b[0m",
      "\u001b[0;31mRuntimeError\u001b[0m                              Traceback (most recent call last)",
      "\u001b[0;32m/tmp/ipykernel_167196/3515204203.py\u001b[0m in \u001b[0;36m<module>\u001b[0;34m\u001b[0m\n\u001b[1;32m     35\u001b[0m \u001b[0mprint\u001b[0m\u001b[0;34m(\u001b[0m\u001b[0;34mf\"correct forward: {torch.allclose(out_man, out1, atol=1e-15)}\"\u001b[0m\u001b[0;34m)\u001b[0m\u001b[0;34m\u001b[0m\u001b[0;34m\u001b[0m\u001b[0m\n\u001b[1;32m     36\u001b[0m \u001b[0;34m\u001b[0m\u001b[0m\n\u001b[0;32m---> 37\u001b[0;31m \u001b[0mrunning_mean\u001b[0m \u001b[0;34m=\u001b[0m \u001b[0;34m(\u001b[0m\u001b[0;36m1\u001b[0m \u001b[0;34m-\u001b[0m \u001b[0mmomentum\u001b[0m\u001b[0;34m)\u001b[0m \u001b[0;34m*\u001b[0m \u001b[0mrunning_mean\u001b[0m \u001b[0;34m+\u001b[0m \u001b[0mmomentum\u001b[0m \u001b[0;34m*\u001b[0m \u001b[0mmean\u001b[0m\u001b[0;34m\u001b[0m\u001b[0;34m\u001b[0m\u001b[0m\n\u001b[0m\u001b[1;32m     38\u001b[0m \u001b[0mrunning_var\u001b[0m \u001b[0;34m=\u001b[0m \u001b[0;34m(\u001b[0m\u001b[0;36m1\u001b[0m \u001b[0;34m-\u001b[0m \u001b[0mmomentum\u001b[0m\u001b[0;34m)\u001b[0m \u001b[0;34m*\u001b[0m \u001b[0mrunning_var\u001b[0m \u001b[0;34m+\u001b[0m \u001b[0mmomentum\u001b[0m \u001b[0;34m*\u001b[0m \u001b[0mvar\u001b[0m \u001b[0;34m*\u001b[0m \u001b[0;34m(\u001b[0m\u001b[0mbatch_size\u001b[0m \u001b[0;34m/\u001b[0m \u001b[0;34m(\u001b[0m\u001b[0mbatch_size\u001b[0m \u001b[0;34m-\u001b[0m \u001b[0;36m1\u001b[0m\u001b[0;34m)\u001b[0m\u001b[0;34m)\u001b[0m\u001b[0;34m\u001b[0m\u001b[0;34m\u001b[0m\u001b[0m\n\u001b[1;32m     39\u001b[0m \u001b[0;34m\u001b[0m\u001b[0m\n",
      "\u001b[0;31mRuntimeError\u001b[0m: The size of tensor a (3) must match the size of tensor b (10) at non-singleton dimension 1"
     ]
    }
   ],
   "source": [
    "momentum = 0.1\n",
    "n_features = 3\n",
    "length = 10\n",
    "batch_size = 32\n",
    "eps = 1e-5\n",
    "affine=True\n",
    "track_running_stats=True\n",
    "device = torch.device(\"cpu\")\n",
    "dtype = torch.float64\n",
    "\n",
    "torch.manual_seed(0)\n",
    "x1 = torch.randn((batch_size, n_features, length), dtype=dtype, requires_grad=True, device=device)\n",
    "x2 = torch.randn(batch_size, n_features, length, dtype=dtype, requires_grad=True, device=device)\n",
    "x1.shape\n",
    "\n",
    "norm = torch.nn.BatchNorm1d(n_features, momentum=momentum, eps=eps, affine=affine, track_running_stats=track_running_stats, dtype=dtype)\n",
    "print(norm.running_mean, norm.running_var)\n",
    "out1 = norm(x1)\n",
    "running_mean_torch, running_var_torch = norm.running_mean, norm.running_var\n",
    "print(running_mean_torch, running_var_torch)\n",
    "\n",
    "\n",
    "gamma = torch.ones_like(x1, dtype=dtype)\n",
    "bias = torch.zeros_like(x1, dtype=dtype)\n",
    "# running_mean = torch.zeros_like(x1, dtype=dtype)\n",
    "# running_var = torch.ones_like(x1, dtype=dtype)\n",
    "running_mean = torch.zeros(n_features, dtype=dtype)\n",
    "\n",
    "mean = x1.mean(dim=0, keepdim=False)\n",
    "var = x1.var(dim=0, keepdim=False, unbiased=False)\n",
    "\n",
    "out_man = (x1 - mean) / torch.sqrt(var + eps)\n",
    "out_man = gamma * out_man + bias\n",
    "\n",
    "print(f\"correct forward: {torch.allclose(out_man, out1, atol=1e-15)}\")\n",
    "\n",
    "running_mean = (1 - momentum) * running_mean + momentum * mean\n",
    "running_var = (1 - momentum) * running_var + momentum * var * (batch_size / (batch_size - 1))\n",
    "\n",
    "print(running_mean.shape, running_mean_torch.shape)\n",
    "\n",
    "print(f\"correct running mean: {torch.allclose(running_mean, running_mean_torch.view(1, n_features, 1), atol=1e-15)}\")\n",
    "\n"
   ]
  },
  {
   "cell_type": "code",
   "execution_count": 13,
   "metadata": {},
   "outputs": [
    {
     "data": {
      "text/plain": [
       "tensor([[[False, False, False, False, False, False],\n",
       "         [False, False, False, False, False, False],\n",
       "         [False, False, False, False, False, False],\n",
       "         [False, False, False, False, False, False],\n",
       "         [False, False, False, False, False, False]],\n",
       "\n",
       "        [[False, False, False, False, False, False],\n",
       "         [False, False, False, False, False, False],\n",
       "         [False, False, False, False, False, False],\n",
       "         [False, False, False, False, False, False],\n",
       "         [False, False, False, False, False, False]],\n",
       "\n",
       "        [[False, False, False, False, False, False],\n",
       "         [False, False, False, False, False, False],\n",
       "         [False, False, False, False, False, False],\n",
       "         [False, False, False, False, False, False],\n",
       "         [False, False, False, False, False, False]]])"
      ]
     },
     "execution_count": 13,
     "metadata": {},
     "output_type": "execute_result"
    }
   ],
   "source": [
    "a = torch.randn((3,5, 6))\n",
    "norm = torch.nn.BatchNorm1d(num_features=5, eps=1e-5)\n",
    "norm(a) == (a - a.mean(dim=0, keepdim=True)) / torch.sqrt(a.var(dim=0, keepdim=True, unbiased=False) + 1e-5)"
   ]
  }
 ],
 "metadata": {
  "kernelspec": {
   "display_name": "base",
   "language": "python",
   "name": "python3"
  },
  "language_info": {
   "codemirror_mode": {
    "name": "ipython",
    "version": 3
   },
   "file_extension": ".py",
   "mimetype": "text/x-python",
   "name": "python",
   "nbconvert_exporter": "python",
   "pygments_lexer": "ipython3",
   "version": "3.9.13"
  },
  "orig_nbformat": 4
 },
 "nbformat": 4,
 "nbformat_minor": 2
}
